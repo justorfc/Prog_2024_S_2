{
  "nbformat": 4,
  "nbformat_minor": 0,
  "metadata": {
    "colab": {
      "provenance": [],
      "authorship_tag": "ABX9TyOhXMWYvk1y/KZaE9zVWOdv",
      "include_colab_link": true
    },
    "kernelspec": {
      "name": "python3",
      "display_name": "Python 3"
    },
    "language_info": {
      "name": "python"
    }
  },
  "cells": [
    {
      "cell_type": "markdown",
      "metadata": {
        "id": "view-in-github",
        "colab_type": "text"
      },
      "source": [
        "<a href=\"https://colab.research.google.com/github/justorfc/Prog_2024_S_2/blob/Prog_Agroindustrial_2024_S_2/tutorial.ipynb\" target=\"_parent\"><img src=\"https://colab.research.google.com/assets/colab-badge.svg\" alt=\"Open In Colab\"/></a>"
      ]
    },
    {
      "cell_type": "markdown",
      "source": [
        "# **Qué es el cálculo simbólico?**\n",
        "\n",
        "El cálculo simbólico se ocupa del cálculo de objetos matemáticos de forma simbólica. Esto significa que los objetos matemáticos se representan de forma exacta, no aproximada, y las expresiones matemáticas con variables no evaluadas se dejan en forma simbólica.\n",
        "\n",
        "Tomemos un ejemplo. Supongamos que queremos utilizar las funciones integradas de Python para calcular raíces cuadradas. Podríamos hacer algo como esto"
      ],
      "metadata": {
        "id": "0Nore5xrgqwJ"
      }
    },
    {
      "cell_type": "code",
      "execution_count": 1,
      "metadata": {
        "colab": {
          "base_uri": "https://localhost:8080/"
        },
        "id": "0lGSnvVGf8zq",
        "outputId": "0327638c-9b3c-4b68-cb2b-0f64c9a0cb62"
      },
      "outputs": [
        {
          "output_type": "execute_result",
          "data": {
            "text/plain": [
              "1.4142135623730951"
            ]
          },
          "metadata": {},
          "execution_count": 1
        }
      ],
      "source": [
        "import math\n",
        "math.sqrt(2)"
      ]
    },
    {
      "cell_type": "code",
      "source": [
        "math.sqrt(9)"
      ],
      "metadata": {
        "colab": {
          "base_uri": "https://localhost:8080/"
        },
        "id": "878s9TR1g_wC",
        "outputId": "0bacad93-e400-455b-b109-f4737498baf7"
      },
      "execution_count": 2,
      "outputs": [
        {
          "output_type": "execute_result",
          "data": {
            "text/plain": [
              "3.0"
            ]
          },
          "metadata": {},
          "execution_count": 2
        }
      ]
    },
    {
      "cell_type": "code",
      "source": [
        "import sympy\n",
        "sympy.sqrt(3)"
      ],
      "metadata": {
        "colab": {
          "base_uri": "https://localhost:8080/",
          "height": 38
        },
        "id": "ibLB9_QthHoS",
        "outputId": "6ac2b261-5ee4-4e0e-adca-08690310901a"
      },
      "execution_count": 3,
      "outputs": [
        {
          "output_type": "execute_result",
          "data": {
            "text/plain": [
              "sqrt(3)"
            ],
            "text/latex": "$\\displaystyle \\sqrt{3}$"
          },
          "metadata": {},
          "execution_count": 3
        }
      ]
    },
    {
      "cell_type": "code",
      "source": [
        "import sympy\n",
        "sympy.sqrt(8)"
      ],
      "metadata": {
        "colab": {
          "base_uri": "https://localhost:8080/",
          "height": 38
        },
        "id": "WGjgs5wHhdvs",
        "outputId": "9f9bc241-faeb-4662-9a52-232f4241cd33"
      },
      "execution_count": 4,
      "outputs": [
        {
          "output_type": "execute_result",
          "data": {
            "text/plain": [
              "2*sqrt(2)"
            ],
            "text/latex": "$\\displaystyle 2 \\sqrt{2}$"
          },
          "metadata": {},
          "execution_count": 4
        }
      ]
    },
    {
      "cell_type": "code",
      "source": [
        "x = sympy.Symbol('x')"
      ],
      "metadata": {
        "id": "aPoyOZOUhp4l"
      },
      "execution_count": null,
      "outputs": []
    },
    {
      "cell_type": "markdown",
      "source": [
        "# Un ejemplo más interesante\n",
        "\n",
        "El ejemplo anterior comienza a mostrar cómo podemos manipular números irracionales exactamente usando SymPy. Pero es mucho más poderoso que eso. Los sistemas de cálculo simbólico (que, por cierto, también suelen llamarse sistemas de álgebra computacional o simplemente CAS) como SymPy son capaces de calcular expresiones simbólicas con variables.\n",
        "\n",
        "Como veremos más adelante, en SymPy, las variables se definen mediante symbols. A diferencia de muchos sistemas de manipulación simbólica, las variables en SymPy deben definirse antes de usarse (la razón de esto se analizará en la siguiente sección ).\n",
        "\n",
        "Definamos una expresión simbólica, que represente la expresión matemática $$x+2y$$"
      ],
      "metadata": {
        "id": "V-qnZIeCiC-b"
      }
    },
    {
      "cell_type": "code",
      "source": [
        "from sympy import symbols\n",
        "x, y = symbols('x y')\n",
        "expr = x + 2*y\n",
        "expr"
      ],
      "metadata": {
        "colab": {
          "base_uri": "https://localhost:8080/",
          "height": 39
        },
        "id": "SgIBO_4CiUqU",
        "outputId": "33d99f51-ceaa-4889-9dcd-b95ac8086e9f"
      },
      "execution_count": 5,
      "outputs": [
        {
          "output_type": "execute_result",
          "data": {
            "text/plain": [
              "x + 2*y"
            ],
            "text/latex": "$\\displaystyle x + 2 y$"
          },
          "metadata": {},
          "execution_count": 5
        }
      ]
    },
    {
      "cell_type": "code",
      "source": [
        "expr + 1"
      ],
      "metadata": {
        "colab": {
          "base_uri": "https://localhost:8080/",
          "height": 39
        },
        "id": "RuhFwwQejOf7",
        "outputId": "09a42e5f-ba0e-4b98-bd13-eab429cac389"
      },
      "execution_count": 6,
      "outputs": [
        {
          "output_type": "execute_result",
          "data": {
            "text/plain": [
              "x + 2*y + 1"
            ],
            "text/latex": "$\\displaystyle x + 2 y + 1$"
          },
          "metadata": {},
          "execution_count": 6
        }
      ]
    },
    {
      "cell_type": "code",
      "source": [
        "expr - x"
      ],
      "metadata": {
        "colab": {
          "base_uri": "https://localhost:8080/",
          "height": 39
        },
        "id": "qT1OZW7LjbJf",
        "outputId": "2404eb18-61c3-463a-bd90-738676b5f7f9"
      },
      "execution_count": 7,
      "outputs": [
        {
          "output_type": "execute_result",
          "data": {
            "text/plain": [
              "2*y"
            ],
            "text/latex": "$\\displaystyle 2 y$"
          },
          "metadata": {},
          "execution_count": 7
        }
      ]
    },
    {
      "cell_type": "code",
      "source": [
        "x*expr"
      ],
      "metadata": {
        "colab": {
          "base_uri": "https://localhost:8080/",
          "height": 39
        },
        "id": "XFHjnoaejiCX",
        "outputId": "99ea40ac-b601-4ea5-fac7-234b4b189bb7"
      },
      "execution_count": 8,
      "outputs": [
        {
          "output_type": "execute_result",
          "data": {
            "text/plain": [
              "x*(x + 2*y)"
            ],
            "text/latex": "$\\displaystyle x \\left(x + 2 y\\right)$"
          },
          "metadata": {},
          "execution_count": 8
        }
      ]
    },
    {
      "cell_type": "code",
      "source": [
        "from sympy import expand, factor\n",
        "expanded_expr = expand(x*expr)\n",
        "expanded_expr"
      ],
      "metadata": {
        "colab": {
          "base_uri": "https://localhost:8080/",
          "height": 39
        },
        "id": "-fIgrQx0jzTy",
        "outputId": "890f5197-9265-4090-f996-40e9d5753d75"
      },
      "execution_count": 9,
      "outputs": [
        {
          "output_type": "execute_result",
          "data": {
            "text/plain": [
              "x**2 + 2*x*y"
            ],
            "text/latex": "$\\displaystyle x^{2} + 2 x y$"
          },
          "metadata": {},
          "execution_count": 9
        }
      ]
    },
    {
      "cell_type": "code",
      "source": [
        "factor(expanded_expr)"
      ],
      "metadata": {
        "colab": {
          "base_uri": "https://localhost:8080/",
          "height": 39
        },
        "id": "1bmS6YvWkQxV",
        "outputId": "0e39acc8-7ae6-4d43-b54a-f70f168dbd78"
      },
      "execution_count": 10,
      "outputs": [
        {
          "output_type": "execute_result",
          "data": {
            "text/plain": [
              "x*(x + 2*y)"
            ],
            "text/latex": "$\\displaystyle x \\left(x + 2 y\\right)$"
          },
          "metadata": {},
          "execution_count": 10
        }
      ]
    },
    {
      "cell_type": "code",
      "source": [],
      "metadata": {
        "id": "HG4NGaFNkXMR"
      },
      "execution_count": null,
      "outputs": []
    },
    {
      "cell_type": "markdown",
      "source": [
        "# El poder del cálculo simbólico\n",
        "\n",
        "El verdadero poder de un sistema de cálculo simbólico como SymPy es la capacidad de realizar todo tipo de cálculos de forma simbólica. SymPy puede simplificar expresiones, calcular derivadas, integrales y límites, resolver ecuaciones, trabajar con matrices y mucho, mucho más, y hacerlo todo de forma simbólica. Incluye módulos para trazar gráficos, imprimir (como la salida impresa en 2D de fórmulas matemáticas o\n",
        "), generación de código, física, estadística, combinatoria, teoría de números, geometría, lógica y más. Aquí hay una pequeña muestra del tipo de poder simbólico del que es capaz SymPy, para abrir el apetito."
      ],
      "metadata": {
        "id": "oZZqaSOvkdTN"
      }
    },
    {
      "cell_type": "code",
      "source": [
        "from  sympy import *\n",
        "x, t, z, nu = symbols('x t z nu')"
      ],
      "metadata": {
        "id": "X7ToV7ifkpxR"
      },
      "execution_count": 11,
      "outputs": []
    },
    {
      "cell_type": "code",
      "source": [
        "init_printing(use_unicode=True)"
      ],
      "metadata": {
        "id": "VMWygtIyk48Y"
      },
      "execution_count": 12,
      "outputs": []
    },
    {
      "cell_type": "markdown",
      "source": [
        "Tome la derivada de $$sin(x)e^x$$"
      ],
      "metadata": {
        "id": "UAgJeXOrlL32"
      }
    },
    {
      "cell_type": "code",
      "source": [
        "diff(sin(x)*exp(x), x)"
      ],
      "metadata": {
        "colab": {
          "base_uri": "https://localhost:8080/",
          "height": 39
        },
        "id": "ZPERtqtdlCaQ",
        "outputId": "8060c738-ca93-49cd-c2df-511e378f146d"
      },
      "execution_count": 13,
      "outputs": [
        {
          "output_type": "execute_result",
          "data": {
            "text/plain": [
              " x           x       \n",
              "ℯ ⋅sin(x) + ℯ ⋅cos(x)"
            ],
            "text/latex": "$\\displaystyle e^{x} \\sin{\\left(x \\right)} + e^{x} \\cos{\\left(x \\right)}$"
          },
          "metadata": {},
          "execution_count": 13
        }
      ]
    },
    {
      "cell_type": "code",
      "source": [
        "expr = sin(x)*exp(x)\n",
        "expr.diff(x)"
      ],
      "metadata": {
        "colab": {
          "base_uri": "https://localhost:8080/",
          "height": 39
        },
        "id": "sYUqzQrmlm8W",
        "outputId": "0b5481a2-1b56-403f-9511-de994c511ca4"
      },
      "execution_count": 14,
      "outputs": [
        {
          "output_type": "execute_result",
          "data": {
            "text/plain": [
              " x           x       \n",
              "ℯ ⋅sin(x) + ℯ ⋅cos(x)"
            ],
            "text/latex": "$\\displaystyle e^{x} \\sin{\\left(x \\right)} + e^{x} \\cos{\\left(x \\right)}$"
          },
          "metadata": {},
          "execution_count": 14
        }
      ]
    },
    {
      "cell_type": "code",
      "source": [
        "integrate(exp(x)*sin(x) + exp(x)*cos(x), x)"
      ],
      "metadata": {
        "colab": {
          "base_uri": "https://localhost:8080/",
          "height": 39
        },
        "id": "uYt3bmRRmEv7",
        "outputId": "5fd26d0b-9755-4060-df31-6211319501e2"
      },
      "execution_count": 15,
      "outputs": [
        {
          "output_type": "execute_result",
          "data": {
            "text/plain": [
              " x       \n",
              "ℯ ⋅sin(x)"
            ],
            "text/latex": "$\\displaystyle e^{x} \\sin{\\left(x \\right)}$"
          },
          "metadata": {},
          "execution_count": 15
        }
      ]
    },
    {
      "cell_type": "code",
      "source": [
        "integrate(expr, x)"
      ],
      "metadata": {
        "colab": {
          "base_uri": "https://localhost:8080/",
          "height": 53
        },
        "id": "2CJYVY70mYyh",
        "outputId": "4911c711-f55a-4dbd-9492-2f044dafc447"
      },
      "execution_count": 16,
      "outputs": [
        {
          "output_type": "execute_result",
          "data": {
            "text/plain": [
              " x           x       \n",
              "ℯ ⋅sin(x)   ℯ ⋅cos(x)\n",
              "───────── - ─────────\n",
              "    2           2    "
            ],
            "text/latex": "$\\displaystyle \\frac{e^{x} \\sin{\\left(x \\right)}}{2} - \\frac{e^{x} \\cos{\\left(x \\right)}}{2}$"
          },
          "metadata": {},
          "execution_count": 16
        }
      ]
    },
    {
      "cell_type": "code",
      "source": [
        "integrate(exp(x)*sin(x) + exp(x)*cos(x), (x, 0, oo))"
      ],
      "metadata": {
        "colab": {
          "base_uri": "https://localhost:8080/",
          "height": 37
        },
        "id": "Xe18w3UvmeNV",
        "outputId": "c99e6862-0781-4409-a955-9f4576328455"
      },
      "execution_count": 17,
      "outputs": [
        {
          "output_type": "execute_result",
          "data": {
            "text/plain": [
              "∞⋅sign(<-1, 1>)"
            ],
            "text/latex": "$\\displaystyle \\infty \\operatorname{sign}{\\left(\\left\\langle -1, 1\\right\\rangle \\right)}$"
          },
          "metadata": {},
          "execution_count": 17
        }
      ]
    },
    {
      "cell_type": "code",
      "source": [
        "integrate(expr, (x, 0, oo))"
      ],
      "metadata": {
        "colab": {
          "base_uri": "https://localhost:8080/",
          "height": 51
        },
        "id": "iE31tlESmr9T",
        "outputId": "3e57817b-f6c8-4677-f97b-26600d779878"
      },
      "execution_count": 18,
      "outputs": [
        {
          "output_type": "execute_result",
          "data": {
            "text/plain": [
              "-∞⋅sign(<-1, 1>) + 1/2"
            ],
            "text/latex": "$\\displaystyle - \\infty \\operatorname{sign}{\\left(\\left\\langle -1, 1\\right\\rangle \\right)} + \\frac{1}{2}$"
          },
          "metadata": {},
          "execution_count": 18
        }
      ]
    },
    {
      "cell_type": "code",
      "source": [
        "integrate(sin(x**2), (x, -oo, oo))"
      ],
      "metadata": {
        "colab": {
          "base_uri": "https://localhost:8080/",
          "height": 55
        },
        "id": "0_QWbAPVm0FQ",
        "outputId": "c9c60ff6-9aa4-453e-a216-dee6e5f5e2ae"
      },
      "execution_count": 19,
      "outputs": [
        {
          "output_type": "execute_result",
          "data": {
            "text/plain": [
              "√2⋅√π\n",
              "─────\n",
              "  2  "
            ],
            "text/latex": "$\\displaystyle \\frac{\\sqrt{2} \\sqrt{\\pi}}{2}$"
          },
          "metadata": {},
          "execution_count": 19
        }
      ]
    },
    {
      "cell_type": "code",
      "source": [
        "# Límites\n",
        "limit(sin(x)/x, x, 0)"
      ],
      "metadata": {
        "colab": {
          "base_uri": "https://localhost:8080/",
          "height": 37
        },
        "id": "XuBjBl0hm52B",
        "outputId": "f9d372b6-6925-4940-c0a2-cfa5aea81629"
      },
      "execution_count": 20,
      "outputs": [
        {
          "output_type": "execute_result",
          "data": {
            "text/plain": [
              "1"
            ],
            "text/latex": "$\\displaystyle 1$"
          },
          "metadata": {},
          "execution_count": 20
        }
      ]
    },
    {
      "cell_type": "code",
      "source": [
        "y = Function('y')\n",
        "dsolve(Eq(y(t).diff(t, t) - y(t), exp(t)), y(t))"
      ],
      "metadata": {
        "colab": {
          "base_uri": "https://localhost:8080/",
          "height": 58
        },
        "id": "ecfZrcIhnCGp",
        "outputId": "f3f718c0-6f99-4a53-bb44-499b26f057ad"
      },
      "execution_count": 21,
      "outputs": [
        {
          "output_type": "execute_result",
          "data": {
            "text/plain": [
              "           -t   ⎛     t⎞  t\n",
              "y(t) = C₂⋅ℯ   + ⎜C₁ + ─⎟⋅ℯ \n",
              "                ⎝     2⎠   "
            ],
            "text/latex": "$\\displaystyle y{\\left(t \\right)} = C_{2} e^{- t} + \\left(C_{1} + \\frac{t}{2}\\right) e^{t}$"
          },
          "metadata": {},
          "execution_count": 21
        }
      ]
    },
    {
      "cell_type": "code",
      "source": [
        "Matrix([[1, 2], [2, 2]]).eigenvals()"
      ],
      "metadata": {
        "colab": {
          "base_uri": "https://localhost:8080/",
          "height": 68
        },
        "id": "8M1LLdjxnMHe",
        "outputId": "aa454758-d1c2-47d4-99da-dd5d310f99fc"
      },
      "execution_count": 22,
      "outputs": [
        {
          "output_type": "execute_result",
          "data": {
            "text/plain": [
              "⎧3   √17     3   √17   ⎫\n",
              "⎨─ - ───: 1, ─ + ───: 1⎬\n",
              "⎩2    2      2    2    ⎭"
            ],
            "text/latex": "$\\displaystyle \\left\\{ \\frac{3}{2} - \\frac{\\sqrt{17}}{2} : 1, \\  \\frac{3}{2} + \\frac{\\sqrt{17}}{2} : 1\\right\\}$"
          },
          "metadata": {},
          "execution_count": 22
        }
      ]
    },
    {
      "cell_type": "code",
      "source": [],
      "metadata": {
        "id": "4Qx35SNGnXHG"
      },
      "execution_count": null,
      "outputs": []
    }
  ]
}