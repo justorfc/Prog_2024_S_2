{
  "nbformat": 4,
  "nbformat_minor": 0,
  "metadata": {
    "colab": {
      "provenance": [],
      "authorship_tag": "ABX9TyOL0Y8hZAABDVLXrEvfx7vT",
      "include_colab_link": true
    },
    "kernelspec": {
      "name": "python3",
      "display_name": "Python 3"
    },
    "language_info": {
      "name": "python"
    }
  },
  "cells": [
    {
      "cell_type": "markdown",
      "metadata": {
        "id": "view-in-github",
        "colab_type": "text"
      },
      "source": [
        "<a href=\"https://colab.research.google.com/github/justorfc/Prog_2024_S_2/blob/Prog_Agr%C3%ADcola_2024_S_2/Tema_3_Variables_Expresiones_y_Sentencias.ipynb\" target=\"_parent\"><img src=\"https://colab.research.google.com/assets/colab-badge.svg\" alt=\"Open In Colab\"/></a>"
      ]
    },
    {
      "cell_type": "markdown",
      "source": [
        "# **Tema_3 Variables Expresiones y Sentencias**"
      ],
      "metadata": {
        "id": "Hh9tbD1AvnqD"
      }
    },
    {
      "cell_type": "markdown",
      "source": [
        "# ***Copiar el notebook en Google Drive y en GitHub***"
      ],
      "metadata": {
        "id": "Bw5fbQ9334AA"
      }
    },
    {
      "cell_type": "markdown",
      "source": [
        "## **Introducción**\n",
        "\n",
        "En este Notebook, exploraremos los conceptos básicos de la programación en Python. Python es un lenguaje de programación versátil y fácil de aprender que se utiliza en una amplia variedad de campos, desde la ciencia de datos hasta la inteligencia artificial.\n",
        "\n",
        "En esta sección, nos enfocaremos en los conceptos fundamentales de la programación en Python, incluyendo variables y tipos de datos, funciones print() e input(), operadores y operandos, expresiones y sentencias, y precedencia de operaciones."
      ],
      "metadata": {
        "id": "xDL9eGHDwV7r"
      }
    },
    {
      "cell_type": "markdown",
      "source": [
        "## **Variables y Tipos de datos**\n",
        "\n",
        "En programación, una variable es un contenedor que almacena un valor. En Python, hay diferentes tipos de variables, como enteros, flotantes y strings. En esta sección, exploraremos cómo declarar y utilizar variables en Python, así como cómo convertir entre diferentes tipos de datos utilizando funciones como float(), int() y str()."
      ],
      "metadata": {
        "id": "iVk5GMQewdbB"
      }
    },
    {
      "cell_type": "code",
      "source": [
        "# Variables y Tipos de datos\n",
        "\n",
        "# Declaración de variables\n",
        "mi_variable = 5  # entero\n",
        "mi_variable_flotante = 3.14  # flotante\n",
        "mi_variable_string = \"Hola, mundo!\"  # string\n",
        "\n",
        "print(mi_variable)\n",
        "print(mi_variable_flotante)\n",
        "print(mi_variable_string)"
      ],
      "metadata": {
        "id": "t6DIl1Gmvosh"
      },
      "execution_count": null,
      "outputs": []
    },
    {
      "cell_type": "code",
      "source": [],
      "metadata": {
        "id": "1hZgO9wT00Sj"
      },
      "execution_count": null,
      "outputs": []
    },
    {
      "cell_type": "code",
      "source": [
        "# Uso de funciones para convertir tipos de datos\n",
        "mi_variable_entero = int(3.14)\n",
        "mi_variable_flotante = float(5)\n",
        "mi_variable_string = str(3.14)\n",
        "\n",
        "print(mi_variable_entero)\n",
        "print(mi_variable_flotante)\n",
        "print(mi_variable_string)"
      ],
      "metadata": {
        "id": "ofPL61cDxOVM"
      },
      "execution_count": null,
      "outputs": []
    },
    {
      "cell_type": "code",
      "source": [],
      "metadata": {
        "id": "wkLvLQxZ011c"
      },
      "execution_count": null,
      "outputs": []
    },
    {
      "cell_type": "markdown",
      "source": [
        "## **Funciones print() e input()**\n",
        "\n",
        "Las funciones print() e input() son fundamentales en la programación en Python. La función print() se utiliza para imprimir texto y valores en la pantalla, mientras que la función input() se utiliza para obtener información del usuario. En esta sección, exploraremos cómo utilizar estas funciones para interactuar con el usuario y mostrar resultados."
      ],
      "metadata": {
        "id": "KC0pBM1HwpE6"
      }
    },
    {
      "cell_type": "code",
      "source": [
        "# Funciones print() e input()\n",
        "\n",
        "# Uso de la función print()\n",
        "print(\"Hola, mundo!\")"
      ],
      "metadata": {
        "id": "K05MyYEIwDj-"
      },
      "execution_count": null,
      "outputs": []
    },
    {
      "cell_type": "code",
      "source": [],
      "metadata": {
        "id": "qcK6BHrh02xf"
      },
      "execution_count": null,
      "outputs": []
    },
    {
      "cell_type": "code",
      "source": [
        "# Uso de la función input()\n",
        "nombre = input(\"¿Cuál es tu nombre? \")\n",
        "print(\"Hola, \" + nombre + \"!\")"
      ],
      "metadata": {
        "id": "2e1UxRIAxaN2"
      },
      "execution_count": null,
      "outputs": []
    },
    {
      "cell_type": "code",
      "source": [],
      "metadata": {
        "id": "D8G7jMq403eb"
      },
      "execution_count": null,
      "outputs": []
    },
    {
      "cell_type": "code",
      "source": [
        "# Uso de la función input() con un mensaje personalizado\n",
        "edad = input(\"¿Cuántos años tienes? \")\n",
        "print(\"Tienes \" + edad + \" años.\")"
      ],
      "metadata": {
        "id": "BeVTWkcwxcUP"
      },
      "execution_count": null,
      "outputs": []
    },
    {
      "cell_type": "code",
      "source": [],
      "metadata": {
        "id": "5OkmjmGd04I_"
      },
      "execution_count": null,
      "outputs": []
    },
    {
      "cell_type": "markdown",
      "source": [
        "## **Operadores y operandos, Expresiones y sentencias y precedencia de operaciones**\n",
        "\n",
        "En programación, los operadores y operandos se utilizan para realizar cálculos y comparaciones. En Python, hay diferentes tipos de operadores, como aritméticos, de comparación y lógicos. En esta sección, exploraremos cómo utilizar estos operadores para realizar cálculos y comparaciones, así como cómo utilizar paréntesis para controlar la precedencia de operaciones.\n",
        "\n",
        "¡Claro! Aquí te dejo las definiciones de expresiones y sentencias en el contexto de la programación:\n",
        "\n",
        "**Expresiones**\n",
        "\n",
        "Una **expresión** es **una combinación de valores, variables y operadores que se evalúa para producir un resultado**. En otras palabras, una expresión es una secuencia de símbolos que se pueden evaluar para obtener un valor.\n",
        "\n",
        "Por ejemplo, en la expresión `2 + 3 * 4`, se están utilizando los valores `2`, `3` y `4`, junto con los operadores `+` y `*`, para producir un resultado. El resultado de esta expresión sería `14`.\n",
        "\n",
        "Las expresiones pueden ser simples, como `x + 5`, o complejas, como `(x + 5) * (y - 3)`. En general, las expresiones se utilizan para realizar cálculos y manipular datos en un programa.\n",
        "\n",
        "**Sentencias**\n",
        "\n",
        "Una **sentencia** **es una unidad de código que se ejecuta como una sola instrucción**. En otras palabras, una sentencia es una secuencia de símbolos que se ejecuta para producir un efecto específico.\n",
        "\n",
        "Por ejemplo, en la sentencia `x = 5`, se está asignando el valor `5` a la variable `x`. En la sentencia `print(\"Hola, mundo!\")`, se está imprimiendo el mensaje \"Hola, mundo!\" en la pantalla.\n",
        "\n",
        "Las sentencias pueden ser simples, como `x = 5`, o complejas, como `if x > 5: print(\"x es mayor que 5\")`. En general, las sentencias se utilizan para controlar el flujo de un programa, realizar cálculos y manipular datos.\n",
        "\n",
        "En resumen, las expresiones se utilizan para producir un resultado, mientras que las sentencias se utilizan para producir un efecto específico. Las expresiones se pueden utilizar dentro de sentencias para realizar cálculos y manipular datos.\n",
        "\n",
        "Aquí hay un ejemplo que ilustra la diferencia entre expresiones y sentencias:\n",
        "```\n",
        "x = 5  # sentencia\n",
        "y = x + 3  # sentencia que utiliza una expresión\n",
        "print(y)  # sentencia que utiliza una expresión\n",
        "```\n",
        "En este ejemplo, `x = 5` es una sentencia que asigna el valor `5` a la variable `x`. `y = x + 3` es una sentencia que utiliza una expresión (`x + 3`) para producir un resultado, que se asigna a la variable `y`. `print(y)` es una sentencia que utiliza una expresión (`y`) para producir un efecto específico (imprimir el valor de `y` en la pantalla)."
      ],
      "metadata": {
        "id": "gxBnnGXqwuNK"
      }
    },
    {
      "cell_type": "code",
      "source": [
        "# Operadores y operandos, Expresiones y sentencias y precedencia de operaciones\n",
        "\n",
        "# Operadores aritméticos\n",
        "a = 5\n",
        "b = 3\n",
        "print(a + b)  # suma\n",
        "print(a - b)  # resta\n",
        "print(a * b)  # multiplicación\n",
        "print(a / b)  # división"
      ],
      "metadata": {
        "id": "NIiwcZUXwy4x"
      },
      "execution_count": null,
      "outputs": []
    },
    {
      "cell_type": "code",
      "source": [],
      "metadata": {
        "id": "-Ee-oIii05Nn"
      },
      "execution_count": null,
      "outputs": []
    },
    {
      "cell_type": "code",
      "source": [
        "# Operadores de comparación\n",
        "a = 5\n",
        "b = 3\n",
        "print(a > b)  # mayor que\n",
        "print(a < b)  # menor que\n",
        "print(a == b)  # igual que\n",
        "print(a!= b)  # distinto que"
      ],
      "metadata": {
        "id": "EsJc5SQ3xkKX"
      },
      "execution_count": null,
      "outputs": []
    },
    {
      "cell_type": "code",
      "source": [],
      "metadata": {
        "id": "7bXPumIK06v3"
      },
      "execution_count": null,
      "outputs": []
    },
    {
      "cell_type": "code",
      "source": [
        "# Operadores lógicos\n",
        "a = True\n",
        "b = False\n",
        "print(a and b)  # y lógico\n",
        "print(a or b)  # o lógico\n",
        "print(not a)  # no lógico"
      ],
      "metadata": {
        "id": "PhWwxHwOxm1y"
      },
      "execution_count": null,
      "outputs": []
    },
    {
      "cell_type": "code",
      "source": [],
      "metadata": {
        "id": "lNSlJ2EN07Yk"
      },
      "execution_count": null,
      "outputs": []
    },
    {
      "cell_type": "code",
      "source": [
        "# Precedencia de operaciones\n",
        "a = 5\n",
        "b = 3\n",
        "c = 2\n",
        "print(a + b * c)  # suma y multiplicación\n",
        "print((a + b) * c)  # suma y multiplicación con paréntesis"
      ],
      "metadata": {
        "id": "amQlGz4ixpn_"
      },
      "execution_count": null,
      "outputs": []
    },
    {
      "cell_type": "code",
      "source": [],
      "metadata": {
        "id": "yRZloHak078E"
      },
      "execution_count": null,
      "outputs": []
    },
    {
      "cell_type": "markdown",
      "source": [
        "# **Módulos en Python**\n",
        "\n",
        "En Python, un módulo es un archivo que contiene un conjunto de funciones, variables y clases que se pueden utilizar en otros programas. Los módulos permiten reutilizar código y hacer que los programas sean más modulares y fáciles de mantener."
      ],
      "metadata": {
        "id": "hx3WKmrsyxlm"
      }
    },
    {
      "cell_type": "markdown",
      "source": [
        "## **Módulo math**\n",
        "\n",
        "El módulo math es un módulo estándar de Python que proporciona funciones para realizar operaciones matemáticas. En este Notebook, exploraremos algunas de las funciones más comunes del módulo math y cómo se pueden utilizar para realizar cálculos."
      ],
      "metadata": {
        "id": "PnmZ4Te-2gbh"
      }
    },
    {
      "cell_type": "markdown",
      "source": [
        "## Variables y Tipos de datos\n",
        "\n",
        "En programación, una variable es un contenedor que almacena un valor. En Python, hay diferentes tipos de variables, como enteros, flotantes y strings. En esta sección, exploraremos cómo declarar y utilizar variables en Python, así como cómo convertir entre diferentes tipos de datos utilizando funciones como float(), int() y str()."
      ],
      "metadata": {
        "id": "YiKTMHa8zDKC"
      }
    },
    {
      "cell_type": "code",
      "source": [
        "import math\n",
        "\n",
        "# Declaración de variables\n",
        "pi = math.pi\n",
        "e = math.e\n",
        "\n",
        "print(pi)\n",
        "print(e)"
      ],
      "metadata": {
        "id": "YynMZfwlzFdI"
      },
      "execution_count": null,
      "outputs": []
    },
    {
      "cell_type": "code",
      "source": [],
      "metadata": {
        "id": "rzalzy9U1Bgy"
      },
      "execution_count": null,
      "outputs": []
    },
    {
      "cell_type": "code",
      "source": [
        "# Uso de funciones para convertir tipos de datos\n",
        "mi_variable_entero = int(math.pi)\n",
        "mi_variable_flotante = float(math.pi)\n",
        "\n",
        "print(mi_variable_entero)\n",
        "print(mi_variable_flotante)"
      ],
      "metadata": {
        "id": "UbBwhrrrzMfc"
      },
      "execution_count": null,
      "outputs": []
    },
    {
      "cell_type": "code",
      "source": [],
      "metadata": {
        "id": "r6xNNB_t1CIP"
      },
      "execution_count": null,
      "outputs": []
    },
    {
      "cell_type": "markdown",
      "source": [
        "## Funciones print() e input()\n",
        "\n",
        "Las funciones print() e input() son fundamentales en la programación en Python. La función print() se utiliza para imprimir texto y valores en la pantalla, mientras que la función input() se utiliza para obtener información del usuario. En esta sección, exploraremos cómo utilizar estas funciones para interactuar con el usuario y mostrar resultados."
      ],
      "metadata": {
        "id": "jAd3d8S9zNgM"
      }
    },
    {
      "cell_type": "code",
      "source": [],
      "metadata": {
        "id": "ibB1W8SL1C3y"
      },
      "execution_count": null,
      "outputs": []
    },
    {
      "cell_type": "code",
      "source": [
        "import math\n",
        "\n",
        "# Uso de la función print()\n",
        "print(\"El valor de pi es:\", math.pi)"
      ],
      "metadata": {
        "id": "zQK82T_6zTc6"
      },
      "execution_count": null,
      "outputs": []
    },
    {
      "cell_type": "code",
      "source": [
        "# Formato f"
      ],
      "metadata": {
        "id": "95ndiazs2uko"
      },
      "execution_count": null,
      "outputs": []
    },
    {
      "cell_type": "code",
      "source": [
        "# Uso de la función input()\n",
        "radio = float(input(\"Ingrese el radio de un círculo: \"))\n",
        "area = math.pi * radio ** 2\n",
        "print(\"El área del círculo es:\", area)"
      ],
      "metadata": {
        "id": "xVeOsmZbzY77"
      },
      "execution_count": null,
      "outputs": []
    },
    {
      "cell_type": "code",
      "source": [],
      "metadata": {
        "id": "bwVfL7Rn1ET7"
      },
      "execution_count": null,
      "outputs": []
    },
    {
      "cell_type": "markdown",
      "source": [
        "## Operadores y operandos, Expresiones y sentencias y precedencia de operaciones\n",
        "\n",
        "En programación, los operadores y operandos se utilizan para realizar cálculos y comparaciones. En Python, hay diferentes tipos de operadores, como aritméticos, de comparación y lógicos. En esta sección, exploraremos cómo utilizar estos operadores para realizar cálculos y comparaciones, así como cómo utilizar paréntesis para controlar la precedencia de operaciones."
      ],
      "metadata": {
        "id": "I083QmXfzZyb"
      }
    },
    {
      "cell_type": "code",
      "source": [
        "import math\n",
        "\n",
        "# Uso de operadores aritméticos con exponenciales\n",
        "a = math.pi\n",
        "b = 2\n",
        "print(a ** b)  # potencia\n",
        "print(math.exp(a))  # exponencial\n",
        "print(math.pow(a, b))  # potencia con dos operandos"
      ],
      "metadata": {
        "id": "GekNKZ43zn7t"
      },
      "execution_count": null,
      "outputs": []
    },
    {
      "cell_type": "code",
      "source": [],
      "metadata": {
        "id": "gQ-h_BSz1FI-"
      },
      "execution_count": null,
      "outputs": []
    },
    {
      "cell_type": "code",
      "source": [
        "# Uso de funciones trigonométricas\n",
        "a = math.pi / 2\n",
        "print(math.sin(a))  # seno\n",
        "print(math.cos(a))  # coseno\n",
        "print(math.tan(a))  # tangente\n",
        "# Son correctos los cálculos anteriores?"
      ],
      "metadata": {
        "id": "0c_7QA4W0cVr"
      },
      "execution_count": null,
      "outputs": []
    },
    {
      "cell_type": "code",
      "source": [],
      "metadata": {
        "id": "fLLD31Mf1FqS"
      },
      "execution_count": null,
      "outputs": []
    },
    {
      "cell_type": "code",
      "source": [
        "# Uso de operadores de comparación con resultados de funciones trigonométricas\n",
        "a = math.pi / 2\n",
        "b = math.sin(a)\n",
        "print(b > 0.5)  # mayor que\n",
        "print(b < 0.5)  # menor que\n",
        "print(b == 0.5)  # igual que\n",
        "print(b!= 0.5)  # distinto que"
      ],
      "metadata": {
        "id": "99mFrprQ0gA0"
      },
      "execution_count": null,
      "outputs": []
    },
    {
      "cell_type": "code",
      "source": [],
      "metadata": {
        "id": "5-P880Ev1GOu"
      },
      "execution_count": null,
      "outputs": []
    },
    {
      "cell_type": "code",
      "source": [
        "# Uso de operadores lógicos con resultados de funciones trigonométricas\n",
        "a = math.pi / 2\n",
        "b = math.sin(a)\n",
        "c = math.cos(a)\n",
        "print(b > 0.5 and c < 0.5)  # y lógico\n",
        "print(b > 0.5 or c < 0.5)  # o lógico\n",
        "print(not b > 0.5)  # no lógico"
      ],
      "metadata": {
        "id": "c6lit2KI0i4I"
      },
      "execution_count": null,
      "outputs": []
    },
    {
      "cell_type": "code",
      "source": [],
      "metadata": {
        "id": "41uUpRXQ1G2z"
      },
      "execution_count": null,
      "outputs": []
    },
    {
      "cell_type": "code",
      "source": [
        "# Uso de paréntesis para controlar la precedencia de operaciones con funciones trigonométricas\n",
        "a = math.pi / 2\n",
        "b = math.sin(a)\n",
        "c = math.cos(a)\n",
        "print((b + c) ** 2)  # suma y potencia con paréntesis\n",
        "print(b ** 2 + c ** 2)  # potencia y suma sin paréntesis"
      ],
      "metadata": {
        "id": "myFrSFzH0k3R"
      },
      "execution_count": null,
      "outputs": []
    },
    {
      "cell_type": "code",
      "source": [],
      "metadata": {
        "id": "_8yBOsSs1Hhs"
      },
      "execution_count": null,
      "outputs": []
    },
    {
      "cell_type": "markdown",
      "source": [
        "# **Ejercicios**"
      ],
      "metadata": {
        "id": "Sp7ueq1n1W4E"
      }
    },
    {
      "cell_type": "markdown",
      "source": [
        "## Ejercicio 1: Desarrolle un programa que calcule el área de un triángulo"
      ],
      "metadata": {
        "id": "UZlSgv1i1eH6"
      }
    },
    {
      "cell_type": "code",
      "source": [],
      "metadata": {
        "id": "iwewLMdI1wFf"
      },
      "execution_count": null,
      "outputs": []
    },
    {
      "cell_type": "markdown",
      "source": [
        "## Ejercicio 2: Desarrolle un programa que calcule el perímetro de un cuadrado"
      ],
      "metadata": {
        "id": "PPW4NLof1vLW"
      }
    },
    {
      "cell_type": "code",
      "source": [],
      "metadata": {
        "id": "Vd4Odxwg155e"
      },
      "execution_count": null,
      "outputs": []
    },
    {
      "cell_type": "markdown",
      "source": [
        "## Ejercicio 3 Construcción de Ventanas\n",
        "\n",
        "[UN SIMPLE PROBLEMA: CONSTRUCCION DE VENTANAS ](https://docs.google.com/document/d/15DZ-QVMJnQAoL38Ln7DRBa-as9Z4M5R0/edit?usp=sharing&ouid=115090580121117021820&rtpof=true&sd=true)"
      ],
      "metadata": {
        "id": "EI4FrVBKJfEs"
      }
    },
    {
      "cell_type": "code",
      "source": [],
      "metadata": {
        "id": "olhGJ7LE1LWl"
      },
      "execution_count": null,
      "outputs": []
    },
    {
      "cell_type": "markdown",
      "source": [
        "## Ejercicio 4 Construcción de Secadores Solares\n",
        "\n",
        "[EFICIENCIAS_SECADOR_SOLAR](https://docs.google.com/spreadsheets/d/1HOwH81S8jgQYQj9c3P-vpj0_gpliJlbo/edit?usp=sharing&ouid=115090580121117021820&rtpof=true&sd=true)"
      ],
      "metadata": {
        "id": "CFl1j5SLMXcO"
      }
    },
    {
      "cell_type": "code",
      "source": [],
      "metadata": {
        "id": "g_J7YAV11M3q"
      },
      "execution_count": null,
      "outputs": []
    },
    {
      "cell_type": "markdown",
      "source": [
        "## Ejercicio 5 Calculo del Factorial según la fórmula de Sterling\n",
        "\n",
        "FACTORIAL DE UN NÚMERO CON LA FÓRMULA DE STIRLING\n",
        "\n",
        "\n",
        "\n",
        "El factorial de un número n (escrito n!) es el número multiplicado por el factorial de sí mismo menos uno. Esta definición es más fácil de entender con un ejemplo. El factorial de 2 es 2 * 1. El factorial de 3 es 3 * 2 * 1. El factorial de 4 es 4 * 3 * 2 * 1, etcétera. Los factoriales crecen mucho y muy rápido. La fórmula de Stirling da una aproximación del factorial para valores grandes, la cual es\n",
        "\n",
        "\n",
        "\n",
        "La función  exp en el módulo math da el valor de e elevado a una potencia dada. Escriba un programa que calcule el factorial de 15 tanto de manera directa como con la fórmula de Stirling y que produzca ambos resultados junto con su diferencia.  \n",
        "\n",
        "![Stirling](https://polaridad.es/wp-content/uploads/2023/11/63c9bbb47a4a0c65a57405808b5b569a.jpg?ezimgfmt=ng%3Awebp%2Fngcb1%2Frs%3Adevice%2Frscb1-1)\n",
        "\n",
        "Requerirá\n",
        "\n",
        "usar el tipo float para este cálculo. Asegúrese de usar el formato adecuado y los comentarios apropiados en su código. El resultado debe estar marcado con claridad y tener un formato nítido.\n",
        "\n",
        "\n",
        "\n"
      ],
      "metadata": {
        "id": "shS7DewDFWvZ"
      }
    },
    {
      "cell_type": "code",
      "source": [],
      "metadata": {
        "id": "4HcgbVMB2GYW"
      },
      "execution_count": null,
      "outputs": []
    }
  ]
}