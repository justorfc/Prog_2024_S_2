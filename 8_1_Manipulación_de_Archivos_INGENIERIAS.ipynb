{
  "nbformat": 4,
  "nbformat_minor": 0,
  "metadata": {
    "colab": {
      "provenance": [],
      "authorship_tag": "ABX9TyPjOXFzU4/M4XHNk0dSeqBE",
      "include_colab_link": true
    },
    "kernelspec": {
      "name": "python3",
      "display_name": "Python 3"
    },
    "language_info": {
      "name": "python"
    }
  },
  "cells": [
    {
      "cell_type": "markdown",
      "metadata": {
        "id": "view-in-github",
        "colab_type": "text"
      },
      "source": [
        "<a href=\"https://colab.research.google.com/github/justorfc/Prog_2024_S_2/blob/Prog_Agroindustrial_2024_S_2/8_1_Manipulaci%C3%B3n_de_Archivos_INGENIERIAS.ipynb\" target=\"_parent\"><img src=\"https://colab.research.google.com/assets/colab-badge.svg\" alt=\"Open In Colab\"/></a>"
      ]
    },
    {
      "cell_type": "markdown",
      "metadata": {
        "id": "ffp40cSa7xfw"
      },
      "source": [
        "# [Acceso a archivos y directorios](https://docs.python.org/es/3/library/filesys.html)\n",
        "\n",
        "Los módulos descritos en este capítulo tratan de archivos de disco y directorios. Por ejemplo, hay módulos para leer las propiedades de los archivos, manipular rutas de acceso de forma portátil y crear archivos temporales.\n",
        "\n",
        "Para escribir o leer cadenas de caracteres para/desde archivos (otros tipos deben ser convertidas a cadenas de caracteres). Para esto Python incorpora un tipo integrado llamado [file](https://docs.python.org/es/3/glossary.html#term-file-object), el cual es manipulado mediante un objeto archivo el cual fue generado a través de una función integrada en Python, a continuación se describen los procesos típicos y sus referencias a funciones propias del lenguaje:\n",
        "\n",
        "1. **Abrir archivo**. La forma preferida para abrir un archivo es usando la función integrada [open()](https://docs.python.org/es/3/library/functions.html#open).\n",
        "2. **Leer archivo.** La forma preferida para leer un archivo es usando algunas de los métodos del tipo objeto [file](https://docs.python.org/es/3/glossary.html#term-file-object) como read(), readline() y readlines().\n",
        "3. **Escribir archivo**. La forma preferida para escribir un archivo es usando el método del tipo objeto file llamado [write()](https://docs.python.org/es/3/library/io.html#io.TextIOBase.write).\n",
        "4. **Cerrar archivo**. La forma preferida para cerrar un archivo es usando el método del tipo objeto file llamado close().\n",
        "5. **Archivos con modulo os** El módulo os de Python le permite a usted realizar operaciones dependiente del Sistema Operativo como crear una carpeta, listar contenidos de una carpeta, conocer acerca de un proceso, finalizar un proceso, etc. Este módulo tiene métodos para ver variables de entornos del Sistema Operativo con las cuales Python esta trabajando en mucho más. [Aquí](https://docs.python.org/es/3/library/os.html) la documentación Python para el módulo os.\n",
        "6. Para los objetivos de nuestro semestre, estaremos manejando todas las operaciones de edición archivos o **CRUD (Create, Read, Update, Delete** con el **módulo pandas** de Python, ***el cual iniciaremos  en nuestra próxima sesión y dedicaremos varias sesiones***.\n",
        "\n",
        "Para python 3:\n",
        "* [os — Interfaces misceláneas del sistema operativo](https://docs.python.org/es/3.8/library/os.html#module-os)\n",
        "\n"
      ]
    },
    {
      "cell_type": "markdown",
      "metadata": {
        "id": "7E5zbp1PW0Kg"
      },
      "source": [
        "# **[sys — Configuración específica del sistema](https://rico-schmidt.name/pymotw-3/sys/index.html)**\n",
        "\n",
        "El módulo sys incluye una colección de servicios para probar o cambiar la configuración del intérprete en tiempo de ejecución y recursos para interactuar con el entorno operativo fuera del programa actual."
      ]
    },
    {
      "cell_type": "markdown",
      "metadata": {
        "id": "A-TExunsKFax"
      },
      "source": [
        "# **[Módulos de sistema](https://uniwebsidad.com/libros/python/capitulo-10/modulos-de-sistema)**\n",
        "\n",
        "**[Python para Principiantes de Eugenia Bahit](https://dn790002.ca.archive.org/0/items/PythonPrincipiantesBahit/Python%20para%20Principiantes%20-%20Bahit.pdf)**\n",
        "\n",
        "**[Eugenia Bahit](https://www.eugeniabahit.com/)**\n",
        "\n",
        "Entre los módulos de sistema que Python nos provee a través de su librería estándar, podemos destacar tres: os, sys, y subprocess.\n",
        "\n",
        "**Módulo os**\n",
        "\n",
        "El módulo os nos permite acceder a funcionalidades dependientes del Sistema Operativo. Sobre todo, aquellas que nos refieren información sobre el entorno del mismo y nos permiten manipular la estructura de directorios\n",
        "\n",
        "**Módulo sys**\n",
        "\n",
        "El módulo sys es el encargado de proveer variables y funcionalidades, directamente relacionadas con el intérprete."
      ]
    },
    {
      "cell_type": "markdown",
      "metadata": {
        "id": "JWnG30hVJ_Q-"
      },
      "source": [
        "A continuación algunos útiles métodos del módulo os que pueden ayudar a manipular archivos y carpeta en su programa Python:"
      ]
    },
    {
      "cell_type": "code",
      "metadata": {
        "id": "yfQVXR_MCHhG"
      },
      "source": [
        "import os\n",
        "dir(os) # Mirar el contenido del módulo os"
      ],
      "execution_count": null,
      "outputs": []
    },
    {
      "cell_type": "code",
      "metadata": {
        "id": "QFiIsSu_93fd"
      },
      "source": [
        "# Crear una nueva carpeta\n",
        "import os\n",
        "os.makedirs(\"Ana_Poleo\")\n",
        "# Observe dónde se crea este directorio. En el icono archivos del panel de la izquierda"
      ],
      "execution_count": null,
      "outputs": []
    },
    {
      "cell_type": "markdown",
      "metadata": {
        "id": "dmyCkECA-kKO"
      },
      "source": [
        "# **Panel del lado izquierdo**\n",
        "\n",
        "Contiene los iconos:\n",
        "1. **Indice** Muestra las secciones del notebook actual\n",
        "2. **Buscar** Permite hacer búsquedas y reemplazos\n",
        "3. **Fragmentos de código** Muestra códigos de ejemplo que se pueden insertar en el notebook actual\n",
        "4. **Archivos** Muestra los archivos de nuestra VM (Virtual Machine) que Google nos aporta. Es una máquina virtual con sistema operativo linux en la cual podemos \"Activar\" nuestra unidad de drive.\n",
        "\n",
        "Si hacemos clic en \"**Activar unidad de Drive**\", nos mostrará el siguiente mensaje:\n",
        "\n",
        "* ¿Deseas permitir que el notebook acceda a tus archivos de Google Drive?\n",
        "* La conexión con Google Drive permitirá que se ejecute código en este notebook para modificar archivos en tu Google Drive.\n",
        "\n",
        "Seguidamente mostrará el siguiente código que sirve para activar muestra unidad de Drive e interactuar con ella:\n",
        "\n",
        "```\n",
        "from google.colab import drive\n",
        "drive.mount('/content/drive')\n",
        "```\n",
        "\n",
        "Al ejecutar este código debemos seguir las indicaciones de permisos y se mostrará en nuestra VM nuestra unidad de Drive y estaremos listos para trabajar con nuestro alojamiento en la nube"
      ]
    },
    {
      "cell_type": "code",
      "metadata": {
        "id": "w_9vmZZjEb_J"
      },
      "source": [
        "import os\n",
        "os.makedirs(\"directorio3\")"
      ],
      "execution_count": null,
      "outputs": []
    },
    {
      "cell_type": "code",
      "metadata": {
        "id": "pWpj3iz-Fuh6"
      },
      "source": [
        "import os\n",
        "os.listdir()\n",
        "# Muestra el contenido del directorio actual"
      ],
      "execution_count": null,
      "outputs": []
    },
    {
      "cell_type": "code",
      "metadata": {
        "id": "9Lj-DfMOAKxZ"
      },
      "source": [
        "# Listar el contenidos de una carpeta\n",
        "\n",
        "import os\n",
        "os.listdir(\"./\")\n",
        "# Lista el contenido del directroio actual"
      ],
      "execution_count": null,
      "outputs": []
    },
    {
      "cell_type": "code",
      "metadata": {
        "id": "QWQUtXzD-VPJ"
      },
      "source": [
        "# Lista el contenido de la carpeta sample_data que esta contenida en la carpeta content\n",
        "import os\n",
        "os.listdir(\"/content/sample_data\")"
      ],
      "execution_count": null,
      "outputs": []
    },
    {
      "cell_type": "code",
      "metadata": {
        "id": "nNib7cuACA4k"
      },
      "source": [
        "# Mostrar el actual directorio de trabajo\n",
        "\n",
        "import os\n",
        "os.getcwd()\n",
        "# Return a unicode string representing the current working directory."
      ],
      "execution_count": null,
      "outputs": []
    },
    {
      "cell_type": "code",
      "metadata": {
        "id": "knRO_IMqCJpY"
      },
      "source": [
        "os.getcwd?"
      ],
      "execution_count": null,
      "outputs": []
    },
    {
      "cell_type": "code",
      "metadata": {
        "id": "NslbuSp9CpGw"
      },
      "source": [
        "# Mostrar el tamaño del archivo en bytes del archivo pasado en parámetro\n",
        "\n",
        "import os\n",
        "os.path.getsize(\"Ana_Poleo\")\n",
        "# Common operations on Posix pathnames.\n",
        "# os.path.getsize Return the size of a file, reported by os.stat()."
      ],
      "execution_count": null,
      "outputs": []
    },
    {
      "cell_type": "code",
      "metadata": {
        "id": "tktxto7pGFoi"
      },
      "source": [
        "# ¿Es un archivo el parámetro pasado?\n",
        "\n",
        "import os\n",
        "os.path.isfile(\"Ana_Poleo\")\n",
        "# Test whether a path is a regular file"
      ],
      "execution_count": null,
      "outputs": []
    },
    {
      "cell_type": "code",
      "metadata": {
        "id": "G8h--351GNrR"
      },
      "source": [
        "# ¿Es una carpeta el parámetro pasado?\n",
        "\n",
        "import os\n",
        "os.path.isdir(\"Ana_Poleo\")"
      ],
      "execution_count": null,
      "outputs": []
    },
    {
      "cell_type": "code",
      "metadata": {
        "id": "hVcLr2y4JFVf"
      },
      "source": [
        "import os\n",
        "os.path.isdir(\"/content/hou_all.csv\")"
      ],
      "execution_count": null,
      "outputs": []
    },
    {
      "cell_type": "code",
      "metadata": {
        "id": "g4gky2cyJehB"
      },
      "source": [
        "import os\n",
        "os.getcwd()"
      ],
      "execution_count": null,
      "outputs": []
    },
    {
      "cell_type": "code",
      "metadata": {
        "id": "3-bCwHgHGSds"
      },
      "source": [
        "# Cambiar directorio/carpeta\n",
        "\n",
        "import os\n",
        "os.chdir(\"Ana_Poleo\")   # Change the current working directory to the specified path.\n",
        "os.getcwd()"
      ],
      "execution_count": null,
      "outputs": []
    },
    {
      "cell_type": "code",
      "metadata": {
        "id": "2JhND79aGq2A"
      },
      "source": [
        "# Renombrar un archivo\n",
        "\n",
        "import os\n",
        "os.rename(\"Ana_Poleo\",\"Ana_Carolina\")\n",
        "os.listdir(\"./\")"
      ],
      "execution_count": null,
      "outputs": []
    },
    {
      "cell_type": "code",
      "metadata": {
        "id": "ZdCio2bVKmLs"
      },
      "source": [
        "os.getcwd()"
      ],
      "execution_count": null,
      "outputs": []
    },
    {
      "cell_type": "code",
      "metadata": {
        "id": "ji6BfyQgG2Vg"
      },
      "source": [
        "# Eliminar un archivo\n",
        "\n",
        "import os\n",
        "# os.chdir(\"Ana_Carolina\")\n",
        "\n",
        "archivo = open(os.getcwd()+'/datos.txt', 'w')\n",
        "archivo.write(\"Se Feliz!\")\n",
        "archivo.close()\n",
        "\n",
        "os.getcwd()"
      ],
      "execution_count": null,
      "outputs": []
    },
    {
      "cell_type": "code",
      "metadata": {
        "id": "vU1VVe08HG82"
      },
      "source": [
        "os.listdir(\"./\")"
      ],
      "execution_count": null,
      "outputs": []
    },
    {
      "cell_type": "code",
      "metadata": {
        "id": "64xicA3PHQUT"
      },
      "source": [
        "os.remove(os.getcwd()+\"/datos.txt\") # Remueve un archivo\n",
        "os.listdir(\"./\")"
      ],
      "execution_count": null,
      "outputs": []
    },
    {
      "cell_type": "code",
      "metadata": {
        "id": "JHQNKIPuHXEP"
      },
      "source": [
        "# Eliminar una carpeta\n",
        "\n",
        "os.rmdir(\"/content/Ana_Carolina\")\n",
        "\n",
        "os.chdir(\"/content/Ana_Carolina\")\n",
        "# Lanza una excepción OSError cuando intenta acceder al directorio que previamente elimino y este no encuentra."
      ],
      "execution_count": null,
      "outputs": []
    },
    {
      "cell_type": "markdown",
      "metadata": {
        "id": "hT2z8xJzg9mV"
      },
      "source": []
    },
    {
      "cell_type": "code",
      "metadata": {
        "id": "GA5muV1YMbpH"
      },
      "source": [],
      "execution_count": null,
      "outputs": []
    },
    {
      "cell_type": "code",
      "metadata": {
        "id": "iOO1UPOwMiJS"
      },
      "source": [
        "# Eliminar una carpeta\n",
        "\n",
        "import sys\n",
        "\n",
        "try:\n",
        "    os.rmdir(\"/content/Ana_Carolina\")\n",
        "    os.chdir(\"/content/Ana_Carolina\")\n",
        "except:\n",
        "    print(sys.exc_info()[1])\n",
        "# Lanza una excepción OSError cuando intenta acceder al directorio que previamente elimino y este no encuentra."
      ],
      "execution_count": null,
      "outputs": []
    },
    {
      "cell_type": "markdown",
      "metadata": {
        "id": "tQmn8BvwiAnH"
      },
      "source": [
        "# Ejercicio de aplicación del modulo os\n",
        "\n",
        "Un programa que:\n",
        "1. Cambie de directorio\n",
        "2. Lea el contenido del directorio\n",
        "3. Recorra con un for, el contenido del directorio e identifique si es archivo o directorio"
      ]
    },
    {
      "cell_type": "code",
      "metadata": {
        "id": "EvBmM8pLN_8Z"
      },
      "source": [
        "import os"
      ],
      "execution_count": null,
      "outputs": []
    },
    {
      "cell_type": "code",
      "metadata": {
        "id": "beo0fMvlhs8F"
      },
      "source": [
        "os.getcwd()"
      ],
      "execution_count": null,
      "outputs": []
    },
    {
      "cell_type": "code",
      "metadata": {
        "id": "vYV-jVo6hy_r"
      },
      "source": [
        "os.chdir(\"../\")\n",
        "os.getcwd()"
      ],
      "execution_count": null,
      "outputs": []
    },
    {
      "cell_type": "code",
      "metadata": {
        "id": "TQmtkUyPh6UF"
      },
      "source": [
        "d = os.listdir()"
      ],
      "execution_count": null,
      "outputs": []
    },
    {
      "cell_type": "code",
      "metadata": {
        "id": "JfRLZMsJiEab"
      },
      "source": [
        "type(d)"
      ],
      "execution_count": null,
      "outputs": []
    },
    {
      "cell_type": "code",
      "metadata": {
        "id": "jKYSpla4iGDL"
      },
      "source": [
        "import os\n",
        "\n",
        "d = os.listdir()\n",
        "\n",
        "for i in d:\n",
        "    if os.path.isdir(i):\n",
        "        print(\"Directorio = \", i)\n",
        "    elif os.path.isfile(i):\n",
        "        print(\"Archivo = \", i)"
      ],
      "execution_count": null,
      "outputs": []
    },
    {
      "cell_type": "markdown",
      "source": [],
      "metadata": {
        "id": "DKH1Vbg9uhO0"
      }
    },
    {
      "cell_type": "markdown",
      "source": [
        "# [shutil — Operaciones de archivos de alto nivel](https://docs.python.org/es/3/library/shutil.html)\n",
        "\n",
        "El módulo shutil ofrece varias operaciones de alto nivel en archivos y colecciones de archivos. En particular, provee funciones que dan soporte a la copia y remoción de archivos. Para operaciones en archivos individuales"
      ],
      "metadata": {
        "id": "L59vSl6ptqO1"
      }
    },
    {
      "cell_type": "code",
      "source": [
        "import os\n",
        "import shutil\n",
        "\n",
        "os.chdir(\"/content/sample_data\")\n",
        "\n",
        "d = os.listdir(\"/content/sample_data\")\n",
        "\n",
        "for a in d:\n",
        "    print(a)"
      ],
      "metadata": {
        "id": "FPVP8l7cvA_s"
      },
      "execution_count": null,
      "outputs": []
    },
    {
      "cell_type": "code",
      "source": [
        "import os\n",
        "import shutil\n",
        "\n",
        "os.chdir(\"/content/sample_data\")\n",
        "\n",
        "d = os.listdir(\"/content/sample_data\")\n",
        "\n",
        "n = 0\n",
        "for a in d:\n",
        "    n +=1\n",
        "    shutil.copy(a,str(n)+a)"
      ],
      "metadata": {
        "id": "M7dCBg4Pug1l"
      },
      "execution_count": null,
      "outputs": []
    },
    {
      "cell_type": "markdown",
      "source": [
        "# [¿Cómo elimino/borro una carpeta que no está vacía con Python?](https://www.it-swarm-es.com/es/python/como-eliminoborro-una-carpeta-que-no-esta-vacia-con-python/958513356/)\n",
        "\n",
        "¿Cuál es la forma más efectiva de eliminar/eliminar una carpeta/directorio que no está vacío?"
      ],
      "metadata": {
        "id": "FiyEjuVZyJoY"
      }
    },
    {
      "cell_type": "code",
      "source": [
        "import shutil\n",
        "\n",
        "shutil.rmtree('/city_temp')"
      ],
      "metadata": {
        "id": "PkIdIJvOx_0s"
      },
      "execution_count": null,
      "outputs": []
    },
    {
      "cell_type": "markdown",
      "source": [
        "# [Referencia de la biblioteca estándar: shutil.rmtree](https://docs.python.org/library/shutil.html#shutil.rmtree).\n",
        "\n",
        "Por diseño, rmtree falla en los árboles de carpetas que contienen archivos de solo lectura. Si desea que la carpeta se elimine independientemente de si contiene archivos de solo lectura, utilice"
      ],
      "metadata": {
        "id": "fC6Ws2RmyQgC"
      }
    },
    {
      "cell_type": "code",
      "source": [
        "import shutil\n",
        "\n",
        "shutil.rmtree('/folder_name', ignore_errors=True)"
      ],
      "metadata": {
        "id": "vyHJ0aWZyRUh"
      },
      "execution_count": null,
      "outputs": []
    },
    {
      "cell_type": "code",
      "source": [],
      "metadata": {
        "id": "7-Xm7t3dyTc7"
      },
      "execution_count": null,
      "outputs": []
    },
    {
      "cell_type": "markdown",
      "source": [
        "# **Consultar con IA el uso de los métodos:**\n",
        "\n",
        "```\n",
        "starwith() y endwith()\n",
        "```"
      ],
      "metadata": {
        "id": "4X0RCXMoC-fw"
      }
    }
  ]
}