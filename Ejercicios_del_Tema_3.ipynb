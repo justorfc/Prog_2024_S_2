{
  "nbformat": 4,
  "nbformat_minor": 0,
  "metadata": {
    "colab": {
      "provenance": [],
      "authorship_tag": "ABX9TyOtoYSeRcb6XHGynJ1+4Gs0",
      "include_colab_link": true
    },
    "kernelspec": {
      "name": "python3",
      "display_name": "Python 3"
    },
    "language_info": {
      "name": "python"
    }
  },
  "cells": [
    {
      "cell_type": "markdown",
      "metadata": {
        "id": "view-in-github",
        "colab_type": "text"
      },
      "source": [
        "<a href=\"https://colab.research.google.com/github/justorfc/Prog_2024_S_2/blob/Prog_Agroindustrial_2024_S_2/Ejercicios_del_Tema_3.ipynb\" target=\"_parent\"><img src=\"https://colab.research.google.com/assets/colab-badge.svg\" alt=\"Open In Colab\"/></a>"
      ]
    },
    {
      "cell_type": "markdown",
      "source": [
        "## Ejercicio 3 Construcción de Ventanas\n",
        "\n",
        "[UN SIMPLE PROBLEMA: CONSTRUCCION DE VENTANAS ](https://docs.google.com/document/d/15DZ-QVMJnQAoL38Ln7DRBa-as9Z4M5R0/edit?usp=sharing&ouid=115090580121117021820&rtpof=true&sd=true)"
      ],
      "metadata": {
        "id": "EI4FrVBKJfEs"
      }
    },
    {
      "cell_type": "code",
      "source": [],
      "metadata": {
        "id": "olhGJ7LE1LWl"
      },
      "execution_count": null,
      "outputs": []
    },
    {
      "cell_type": "markdown",
      "source": [
        "## Ejercicio 4 Construcción de Secadores Solares\n",
        "\n",
        "[EFICIENCIAS_SECADOR_SOLAR](https://docs.google.com/spreadsheets/d/1HOwH81S8jgQYQj9c3P-vpj0_gpliJlbo/edit?usp=sharing&ouid=115090580121117021820&rtpof=true&sd=true)"
      ],
      "metadata": {
        "id": "CFl1j5SLMXcO"
      }
    },
    {
      "cell_type": "code",
      "source": [],
      "metadata": {
        "id": "g_J7YAV11M3q"
      },
      "execution_count": null,
      "outputs": []
    }
  ]
}